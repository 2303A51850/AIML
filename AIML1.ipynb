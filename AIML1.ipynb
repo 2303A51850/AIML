{
  "nbformat": 4,
  "nbformat_minor": 0,
  "metadata": {
    "colab": {
      "provenance": [],
      "toc_visible": true,
      "authorship_tag": "ABX9TyO/ZXCyOxCPt9HTYG7i9kPa",
      "include_colab_link": true
    },
    "kernelspec": {
      "name": "python3",
      "display_name": "Python 3"
    },
    "language_info": {
      "name": "python"
    }
  },
  "cells": [
    {
      "cell_type": "markdown",
      "metadata": {
        "id": "view-in-github",
        "colab_type": "text"
      },
      "source": [
        "<a href=\"https://colab.research.google.com/github/2303A51850/AIML/blob/main/AIML1.ipynb\" target=\"_parent\"><img src=\"https://colab.research.google.com/assets/colab-badge.svg\" alt=\"Open In Colab\"/></a>"
      ]
    },
    {
      "cell_type": "code",
      "execution_count": null,
      "metadata": {
        "colab": {
          "base_uri": "https://localhost:8080/"
        },
        "id": "IzggrohBCsry",
        "outputId": "d4b4cd38-9672-4e95-d117-15654ae8755a"
      },
      "outputs": [
        {
          "output_type": "stream",
          "name": "stdout",
          "text": [
            "['computer', 'cpu', 'mouse']\n"
          ]
        }
      ],
      "source": [
        "#lists in python\n",
        "import numpy as np\n",
        "thislist = [\"computer\", \"cpu\", \"mouse\"]\n",
        "print(thislist)\n"
      ]
    },
    {
      "cell_type": "code",
      "source": [
        "#array in python\n",
        "bikes = [\"gt650\", \"classic350\", \"jawa\"]\n",
        "x = bikes[0]\n",
        "print(x)"
      ],
      "metadata": {
        "colab": {
          "base_uri": "https://localhost:8080/"
        },
        "id": "k88CCWpvDwf-",
        "outputId": "7fc0428d-d39f-4ff9-bcc0-84112d6f437f"
      },
      "execution_count": null,
      "outputs": [
        {
          "output_type": "stream",
          "name": "stdout",
          "text": [
            "gt650\n"
          ]
        }
      ]
    },
    {
      "cell_type": "code",
      "source": [
        "#data types in python\n",
        "x = int(1)\n",
        "y = int(2.7)\n",
        "z = float(\"3\")\n",
        "w = float(\"4.2\")\n",
        "print(x)\n",
        "print(y)\n",
        "print(z)\n",
        "print(w)"
      ],
      "metadata": {
        "colab": {
          "base_uri": "https://localhost:8080/"
        },
        "id": "9Z-eUsiNHE3T",
        "outputId": "b1a05c96-5772-4c48-a294-237edc855df3"
      },
      "execution_count": null,
      "outputs": [
        {
          "output_type": "stream",
          "name": "stdout",
          "text": [
            "1\n",
            "2\n",
            "3.0\n",
            "4.2\n"
          ]
        }
      ]
    },
    {
      "cell_type": "code",
      "source": [],
      "metadata": {
        "id": "dAMfmT-1KtBZ"
      },
      "execution_count": null,
      "outputs": []
    }
  ]
}